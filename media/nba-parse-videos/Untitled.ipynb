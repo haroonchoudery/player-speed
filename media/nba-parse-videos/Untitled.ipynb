{
 "cells": [
  {
   "cell_type": "code",
   "execution_count": null,
   "metadata": {
    "collapsed": true
   },
   "outputs": [],
   "source": [
    "def extract_static(video_id, frame_interval, static_num_examples):\n",
    "    \"\"\"\n",
    "    Extract static frames from video\n",
    "    \n",
    "    Arguments:\n",
    "    - video_id: the video ID (or asset ID)\n",
    "    - frame_interval: the interval for which frames will be captured.\n",
    "    \"\"\"\n",
    "    count = 0\n",
    "    full_path = 'videos/{}.mp4'.format(video_id)\n",
    "    cap = skvideo.io.vread(full_path)\n",
    "    root_id = get_root_id(video_id)\n",
    "    example_no = static_num_examples[get_text_label(root_id)] + 1\n",
    "    folder = \"/data/imgs/frames/{}/{}/\".format(get_text_label(root_id), example_no)\n",
    "    \n",
    "    w = 255\n",
    "    h = 255\n",
    "    \n",
    "    os.mkdir(\"/data/imgs/frames/{}/{}\".format(get_text_label(root_id), example_no))\n",
    "\n",
    "    for frame in cap:\n",
    "        if count%frame_interval == 0:\n",
    "            img_path = folder + '{}.jpg'.format(count)\n",
    "            \n",
    "            frame = cv2.resize(frame, (w,h))\n",
    "            cv2.imwrite(img_path, frame)\n",
    "            \n",
    "        count += 1\n",
    "        \n",
    "\n",
    "extract_static()"
   ]
  },
  {
   "cell_type": "code",
   "execution_count": 6,
   "metadata": {
    "collapsed": false
   },
   "outputs": [
    {
     "ename": "ImportError",
     "evalue": "No module named cv2",
     "output_type": "error",
     "traceback": [
      "\u001b[0;31m---------------------------------------------------------------------------\u001b[0m",
      "\u001b[0;31mImportError\u001b[0m                               Traceback (most recent call last)",
      "\u001b[0;32m<ipython-input-6-8782c707e1c4>\u001b[0m in \u001b[0;36m<module>\u001b[0;34m()\u001b[0m\n\u001b[0;32m----> 1\u001b[0;31m \u001b[0;32mimport\u001b[0m \u001b[0mcv2\u001b[0m\u001b[0;34m\u001b[0m\u001b[0m\n\u001b[0m\u001b[1;32m      2\u001b[0m \u001b[0;32mimport\u001b[0m \u001b[0mos\u001b[0m\u001b[0;34m\u001b[0m\u001b[0m\n\u001b[1;32m      3\u001b[0m \u001b[0;34m\u001b[0m\u001b[0m\n\u001b[1;32m      4\u001b[0m \u001b[0mlocal_directory\u001b[0m \u001b[0;34m=\u001b[0m \u001b[0;34m'videos'\u001b[0m\u001b[0;34m\u001b[0m\u001b[0m\n\u001b[1;32m      5\u001b[0m \u001b[0mdest_directory\u001b[0m \u001b[0;34m=\u001b[0m \u001b[0;34m'frames'\u001b[0m\u001b[0;34m\u001b[0m\u001b[0m\n",
      "\u001b[0;31mImportError\u001b[0m: No module named cv2"
     ]
    }
   ],
   "source": [
    "import cv2\n",
    "import os\n",
    "\n",
    "local_directory = 'videos'\n",
    "dest_directory = 'frames'\n",
    "\n",
    "def parseVideo(local_directory, dest_directory, filename, rotate=False):\n",
    "    vidcap = cv2.VideoCapture(os.path.join(local_directory,filename))\n",
    "    success,image = vidcap.read()\n",
    "    count = 0\n",
    "    frame = 0\n",
    "    success = True\n",
    "    spacer = 2\n",
    "    while success:\n",
    "        try:\n",
    "            success,image = vidcap.read()\n",
    "            if count % spacer == 0:\n",
    "                if rotate:\n",
    "                    image = cv2.rotate(image, cv2.ROTATE_90_CLOCKWISE);\n",
    "                print('Save frame: ', frame)\n",
    "                height,width,channels = image.shape\n",
    "                cv2.imwrite(os.path.join(dest_directory, \"frame_\"+str(frame).zfill(6)+\".jpg\"), image) # save frame as JPEG file\n",
    "                frame += 1\n",
    "            count += 1\n",
    "        except:\n",
    "            return\n",
    "        \n",
    "for file in os.listdir(local_directory):\n",
    "    parseVideo(local_directory, dest_directory, filename, rotate=False)        \n"
   ]
  },
  {
   "cell_type": "code",
   "execution_count": 5,
   "metadata": {
    "collapsed": false
   },
   "outputs": [
    {
     "data": {
      "text/plain": [
       "['.DS_Store', 'Untitled.ipynb', 'frames', 'videos', '.ipynb_checkpoints']"
      ]
     },
     "execution_count": 5,
     "metadata": {},
     "output_type": "execute_result"
    }
   ],
   "source": [
    "import os\n",
    "\n",
    "os.listdir('.')"
   ]
  }
 ],
 "metadata": {
  "anaconda-cloud": {},
  "kernelspec": {
   "display_name": "Python [Root]",
   "language": "python",
   "name": "Python [Root]"
  },
  "language_info": {
   "codemirror_mode": {
    "name": "ipython",
    "version": 2
   },
   "file_extension": ".py",
   "mimetype": "text/x-python",
   "name": "python",
   "nbconvert_exporter": "python",
   "pygments_lexer": "ipython2",
   "version": "2.7.13"
  }
 },
 "nbformat": 4,
 "nbformat_minor": 0
}
